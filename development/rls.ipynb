{
 "cells": [
  {
   "cell_type": "markdown",
   "metadata": {},
   "source": [
    "# 22.46 Procesamiento Adaptativo de Señales Aleatorias\n",
    "# Proyecto 02\n",
    "## Cancelación Activa de Ruido\n",
    "Este trabajo desarrolla la síntesis de un sistema de cancelación activa de ruido basado en el algoritmo RLS.\n",
    "\n",
    "#### Grupo N° 1\n",
    "* DAVIDOV, Gonzalo Joaquín\n",
    "* FARALL, Facundo David\n",
    "* KAMMANN, Lucas Agustín\n",
    "* TROZZO, Rafael Nicolás"
   ]
  },
  {
   "cell_type": "code",
   "execution_count": null,
   "metadata": {},
   "outputs": [],
   "source": [
    "import matplotlib.pyplot as plt"
   ]
  },
  {
   "cell_type": "code",
   "execution_count": null,
   "metadata": {},
   "outputs": [],
   "source": [
    "from scipy import signal"
   ]
  },
  {
   "cell_type": "code",
   "execution_count": null,
   "metadata": {},
   "outputs": [],
   "source": [
    "import numpy as np"
   ]
  },
  {
   "cell_type": "code",
   "execution_count": null,
   "metadata": {},
   "outputs": [],
   "source": [
    "import IPython"
   ]
  },
  {
   "cell_type": "code",
   "execution_count": null,
   "metadata": {},
   "outputs": [],
   "source": [
    "def plot_anc_results(e, w=None, weight_plot='response', labels=None):\n",
    "    \"\"\" Plot the results of the ANC algorithm.\n",
    "        @param error_history\n",
    "        @param weight_history\n",
    "    \"\"\"\n",
    "    \n",
    "    if w is not None:\n",
    "        fig, ax = plt.subplots(2, 1, figsize=(18, 18))\n",
    "        error_ax = ax[0]\n",
    "    else:\n",
    "        fig, ax = plt.subplots(1, 1, figsize=(18, 9))\n",
    "        error_ax = ax\n",
    "        \n",
    "    if labels is None:\n",
    "        labels = ['Ruido con filtrado pasivo', 'Ruido con ANC']\n",
    "    for k, error in enumerate(e):\n",
    "        error_ax.plot(error, label=labels[k])\n",
    "    error_ax.set_ylabel('$e(n)$', fontsize=16)\n",
    "    error_ax.set_xlabel('$n$', fontsize=16)\n",
    "    error_ax.grid()\n",
    "    error_ax.legend(loc='upper right', fontsize=14)\n",
    "    \n",
    "    if w is not None:\n",
    "        if weight_plot == 'response':\n",
    "            ax[1].stem(w, use_line_collection=True)\n",
    "            ax[1].set_ylabel('$w_n$', fontsize=16)\n",
    "            ax[1].set_xlabel('$n$', fontsize=16)\n",
    "            ax[1].grid()\n",
    "        elif weight_plot == 'history':\n",
    "            for i in range(w.shape[0]):\n",
    "                ax[1].plot(w[i,:])\n",
    "            ax[1].set_ylabel('$w_i(n)$', fontsize=16)\n",
    "            ax[1].set_xlabel('$n$', fontsize=16)\n",
    "            ax[1].grid()\n",
    "    \n",
    "    plt.show()"
   ]
  },
  {
   "cell_type": "code",
   "execution_count": null,
   "metadata": {},
   "outputs": [],
   "source": [
    "def plot_frequency_analysis(p, g, w, fs):\n",
    "    \"\"\" Plot the frequency responses related to the ANC system.\n",
    "        P/G is the target frequency response and W is the one reached by\n",
    "        the FX-LMS algorithm. G's spectrum is also shown\n",
    "        @param p  P(z) impulse response\n",
    "        @param g  G(z) impulse response\n",
    "        @param w  W(z) impulse response\n",
    "        @param fs Sampling frequency\n",
    "    \"\"\"\n",
    "    # Calculate P/G, W and G frequency responses\n",
    "    w_pg, h_pg = signal.freqz(p, g, fs=fs)\n",
    "    w_w, h_w = signal.freqz(w, [1.0], fs=fs)\n",
    "    w_g, h_g = signal.freqz(g, [1.0], fs=fs)\n",
    "\n",
    "    fig, ax = plt.subplots(2, 1, figsize=(18, 10))\n",
    "\n",
    "    ax[0].set_ylabel('Amplitud [dB]', fontsize=16)\n",
    "    ax[0].set_xlabel('Frecuencia [kHz]', fontsize=16)\n",
    "    ax[0].grid()\n",
    "   \n",
    "    ax[0].plot(w_pg / 1e3, 20*np.log10(np.abs(h_pg)), label='$P/G$')\n",
    "    ax[0].plot(w_w / 1e3,20*np.log10(np.abs(h_w)), label='$W$')\n",
    "    ax[0].legend(fontsize=13)\n",
    "   \n",
    "    ax[1].set_ylabel('Amplitud [dB]', fontsize=16)\n",
    "    ax[1].set_xlabel('Frecuencia [kHz]', fontsize=16)\n",
    "    ax[1].grid()\n",
    "   \n",
    "    ax[1].plot(w_g / 1e3,20*np.log10(np.abs(h_g)), label='$G$')\n",
    "    ax[1].legend(fontsize=13)\n",
    "   \n",
    "    plt.show()"
   ]
  },
  {
   "cell_type": "code",
   "execution_count": null,
   "metadata": {},
   "outputs": [],
   "source": [
    "import json"
   ]
  },
  {
   "cell_type": "code",
   "execution_count": null,
   "metadata": {},
   "outputs": [],
   "source": [
    "class AcousticModel:\n",
    "    \"\"\" The AcousticModel class exposes an inteface to simulate the interaction\n",
    "        with the physical system. This allows us to encapsulate the physical model\n",
    "        to easily simulate it while developing the active noise cancelling system.\n",
    "    \"\"\"\n",
    "    \n",
    "    def __init__(self):\n",
    "        raise NotImplemented\n",
    "    \n",
    "    def __len__(self):\n",
    "        \"\"\" Returns the length of the acoustic model, understood as the amount\n",
    "            of samples for simulation that it contains.\n",
    "        \"\"\"\n",
    "        raise NotImplemented\n",
    "    \n",
    "    def set_noise(self, x):\n",
    "        \"\"\" Set the noise samples\n",
    "            @param x Array containing noise samples for the acoustic simulation\n",
    "        \"\"\"\n",
    "        raise NotImplemented\n",
    "\n",
    "    def reference_microphone(self):\n",
    "        \"\"\" Takes a sample from the reference microphone.\n",
    "            @return Reference signal sample\n",
    "        \"\"\"\n",
    "        raise NotImplemented\n",
    "    \n",
    "    def error_microphone(self):\n",
    "        \"\"\" Takes a sample from the error microphone.\n",
    "            @return Error signal sample\n",
    "        \"\"\"\n",
    "        raise NotImplemented\n",
    "    \n",
    "    def speaker(self, y):\n",
    "        \"\"\" Sets the output sample for the speaker.\n",
    "            @param y Output signal sample\n",
    "        \"\"\"\n",
    "        raise NotImplemented\n",
    "    \n",
    "    def step(self):\n",
    "        \"\"\" Moves forward to the next sampling time or instant.\n",
    "            @return Boolean indicating it has not reached the end of the samples\n",
    "        \"\"\"\n",
    "        raise NotImplemented\n",
    "    \n",
    "    def reset(self):\n",
    "        \"\"\" Resets the sampling time to zero.\n",
    "        \"\"\"\n",
    "        raise NotImplemented"
   ]
  },
  {
   "cell_type": "markdown",
   "metadata": {},
   "source": [
    "## Base de datos PANDAR\n",
    "La base de datos utilizada tiene mediciones para los caminos primario, secundario y de feedback de los auriculares BoseQC20 para una cámara anecoica y una cámara acústica. Además, proveen mediciones de parte de la electrónica utilizada en las mediciones (ADC y DAC) para compensar los resultados. Este procesamiento se realiza en Matlab y se guarda el resultado en el archivo JSON accedido en este notebook.\n",
    "\n",
    "Se utilizan las mediciones de la cámara anecoica porque al no tener reflexiones la respuesta impulsiva del camino primario es más corta, lo cual acelera los tiempos de procesamiento y agiliza el trabajo."
   ]
  },
  {
   "cell_type": "code",
   "execution_count": null,
   "metadata": {},
   "outputs": [],
   "source": []
  }
 ],
 "metadata": {
  "kernelspec": {
   "display_name": "Python 3",
   "language": "python",
   "name": "python3"
  },
  "language_info": {
   "codemirror_mode": {
    "name": "ipython",
    "version": 3
   },
   "file_extension": ".py",
   "mimetype": "text/x-python",
   "name": "python",
   "nbconvert_exporter": "python",
   "pygments_lexer": "ipython3",
   "version": "3.7.6"
  }
 },
 "nbformat": 4,
 "nbformat_minor": 4
}
